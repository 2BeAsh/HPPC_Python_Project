{
 "cells": [
  {
   "cell_type": "code",
   "execution_count": 1,
   "metadata": {},
   "outputs": [],
   "source": [
    "import numpy as np\n",
    "# Dask imports\n",
    "import dask.array as da\n",
    "from dask.distributed import Client, LocalCluster"
   ]
  },
  {
   "cell_type": "code",
   "execution_count": 2,
   "metadata": {},
   "outputs": [
    {
     "name": "stdout",
     "output_type": "stream",
     "text": [
      "-- NUMPY --\n",
      "Result:  171828421.14839384\n"
     ]
    }
   ],
   "source": [
    "# NUMPY\n",
    "size = 10_000\n",
    "x_np = np.random.random((size, size))\n",
    "y_np = np.exp(x_np).sum()\n",
    "print(\"-- NUMPY --\")\n",
    "print(\"Result: \", y_np)"
   ]
  },
  {
   "cell_type": "markdown",
   "metadata": {},
   "source": [
    "**Set up cluster**\n",
    "Only run once!"
   ]
  },
  {
   "cell_type": "code",
   "execution_count": 3,
   "metadata": {},
   "outputs": [
    {
     "name": "stdout",
     "output_type": "stream",
     "text": [
      "http://127.0.0.1:8787/status\n"
     ]
    }
   ],
   "source": [
    "# DASK\n",
    "cluster = LocalCluster()  # \"Each node has 36 cores and 100 gb of memory\"\n",
    "client = Client(cluster)\n",
    "print(client.dashboard_link)  # Giver et link hvor man kan se hvad der sker"
   ]
  },
  {
   "cell_type": "code",
   "execution_count": 4,
   "metadata": {},
   "outputs": [
    {
     "name": "stdout",
     "output_type": "stream",
     "text": [
      "-- DASK --\n",
      "Result:  171828651.9659685\n",
      "Scheduler info:\t <Scheduler 'tcp://127.0.0.1:54065', workers: 5, cores: 20, tasks: 237>\n"
     ]
    }
   ],
   "source": [
    "size = 10_000\n",
    "\n",
    "x = da.random.random((size, size), chunks=(1000, 1000))\n",
    "y = da.exp(x).sum()\n",
    "#y.visualize()  # Requires graphics engine. Might need to run in jupyter\n",
    "y = y.compute()\n",
    "\n",
    "print(\"-- DASK --\")\n",
    "print(\"Result: \", y)\n",
    "print(\"Scheduler info:\\t\", cluster.scheduler) # Print scheduler info"
   ]
  },
  {
   "cell_type": "markdown",
   "metadata": {},
   "source": []
  },
  {
   "cell_type": "code",
   "execution_count": null,
   "metadata": {},
   "outputs": [],
   "source": []
  }
 ],
 "metadata": {
  "kernelspec": {
   "display_name": "Python 3",
   "language": "python",
   "name": "python3"
  },
  "language_info": {
   "codemirror_mode": {
    "name": "ipython",
    "version": 3
   },
   "file_extension": ".py",
   "mimetype": "text/x-python",
   "name": "python",
   "nbconvert_exporter": "python",
   "pygments_lexer": "ipython3",
   "version": "3.11.8"
  }
 },
 "nbformat": 4,
 "nbformat_minor": 2
}
