{
 "cells": [
  {
   "cell_type": "code",
   "execution_count": 92,
   "metadata": {},
   "outputs": [
    {
     "name": "stdout",
     "output_type": "stream",
     "text": [
      "[[0 0 0 0 0 0 0 0]\n",
      " [1 0 0 0 0 0 0 0]\n",
      " [2 0 0 0 0 0 0 0]\n",
      " [0 1 0 0 0 0 0 0]\n",
      " [1 1 0 0 0 0 0 0]\n",
      " [2 1 0 0 0 0 0 0]\n",
      " [0 2 0 0 0 0 0 0]\n",
      " [1 2 0 0 0 0 0 0]]\n",
      "[[ 3.89250239e+01  6.77555732e-03  5.07776798e-03  4.18748906e-01\n",
      "   1.95532275e+00 -8.67511218e-01 -1.10022287e-05  1.24596383e-02]\n",
      " [ 4.13766506e+01  5.99300700e-02  3.77865490e-02  4.43590891e-01\n",
      "   3.45779819e+00 -6.29694591e-01  2.08235447e-06  1.24927844e-02]\n",
      " [ 4.38282774e+01  1.13084583e-01  7.04953300e-02  4.68432876e-01\n",
      "   4.96027363e+00 -3.91877963e-01  1.51669376e-05  1.25259305e-02]]\n",
      "[[0. 0. 0. 0. 0. 0. 0. 0.]\n",
      " [0. 0. 0. 0. 0. 0. 0. 0.]\n",
      " [0. 0. 0. 0. 0. 0. 0. 0.]\n",
      " [0. 0. 0. 0. 0. 0. 0. 0.]\n",
      " [0. 0. 0. 0. 0. 0. 0. 0.]\n",
      " [0. 0. 0. 0. 0. 0. 0. 0.]\n",
      " [0. 0. 0. 0. 0. 0. 0. 0.]\n",
      " [0. 0. 0. 0. 0. 0. 0. 0.]]\n",
      "[ 4.13766506e+01  6.77555732e-03  5.07776798e-03  4.18748906e-01\n",
      "  1.95532275e+00 -8.67511218e-01 -1.10022287e-05  1.24596383e-02]\n"
     ]
    }
   ],
   "source": [
    "import numpy as np\n",
    "from overall import Data\n",
    "n_cuts = 3\n",
    "n_settings = n_cuts ** 8\n",
    "\n",
    "ds = Data()\n",
    "j = np.arange(n_cuts)\n",
    "ranges = ds.means_sig+(j * (ds.means_bckg[:,np.newaxis] - ds.means_sig[:,np.newaxis]) / n_cuts).T\n",
    "\n",
    "settings = np.zeros((n_settings,8))\n",
    "\n",
    "test = np.zeros((n_settings,8),dtype=int)\n",
    "\n",
    "for k in range(n_settings):\n",
    "    div = 1\n",
    "    set = np.zeros(8)\n",
    "    for i in range(8):\n",
    "        idx = (k // div) % n_cuts\n",
    "        set[i] = ranges[idx,i]\n",
    "        div *= n_cuts\n",
    "        test[k,i] = idx\n",
    "    settings[k,:] = set\n",
    "\n",
    "settings = np.zeros((n_settings,8))\n",
    "div = n_cuts**np.arange(8)\n",
    "k = np.arange(n_settings)\n",
    "idx = (k[:,np.newaxis]) // div % n_cuts\n",
    "i = np.arange(8)\n",
    "settings = ranges[idx,i]"
   ]
  }
 ],
 "metadata": {
  "kernelspec": {
   "display_name": "base",
   "language": "python",
   "name": "python3"
  },
  "language_info": {
   "codemirror_mode": {
    "name": "ipython",
    "version": 3
   },
   "file_extension": ".py",
   "mimetype": "text/x-python",
   "name": "python",
   "nbconvert_exporter": "python",
   "pygments_lexer": "ipython3",
   "version": "3.6.13"
  }
 },
 "nbformat": 4,
 "nbformat_minor": 2
}
